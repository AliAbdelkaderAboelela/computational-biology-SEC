{
 "cells": [
  {
   "cell_type": "code",
   "execution_count": 2,
   "id": "4aaf2e3c",
   "metadata": {},
   "outputs": [
    {
     "name": "stdout",
     "output_type": "stream",
     "text": [
      "Requirement already satisfied: numpy in d:\\anaconda\\lib\\site-packages (1.20.3)\n",
      "Collecting pyopenms\n",
      "  Downloading pyopenms-2.7.0-cp39-cp39-win_amd64.whl (29.4 MB)\n",
      "Requirement already satisfied: numpy in d:\\anaconda\\lib\\site-packages (from pyopenms) (1.20.3)\n",
      "Installing collected packages: pyopenms\n",
      "Successfully installed pyopenms-2.7.0\n"
     ]
    }
   ],
   "source": [
    "!pip install numpy\n",
    "!pip install pyopenms"
   ]
  },
  {
   "cell_type": "code",
   "execution_count": 5,
   "id": "62869e08",
   "metadata": {},
   "outputs": [],
   "source": [
    "from pyopenms import *\n",
    "exp = MSExperiment()\n",
    "MzMLFile().store(\"testfile.MzML\",exp)"
   ]
  },
  {
   "cell_type": "code",
   "execution_count": 6,
   "id": "d27066f2",
   "metadata": {},
   "outputs": [
    {
     "name": "stdout",
     "output_type": "stream",
     "text": [
      "Valine\n",
      "117.0789793509\n",
      "Alanine\n",
      "89.04767922330001\n",
      "Lysine\n",
      "146.1055284466\n",
      "352.2321870208\n"
     ]
    }
   ],
   "source": [
    "#first we get the name of given onelitter then get the name of amino acid \n",
    "#second calculate the Monoweight \n",
    "#finally ,  we sum in one variable (total mass)\n",
    "\n",
    "V = ResidueDB().getResidue(\"V\")\n",
    "print(V.getName())\n",
    "\n",
    "v_mass = V.getMonoWeight()\n",
    "print(v_mass)\n",
    "\n",
    "A = ResidueDB().getResidue(\"A\")\n",
    "print(A.getName())\n",
    "\n",
    "a_mass = A.getMonoWeight()\n",
    "print(a_mass)\n",
    "\n",
    "K = ResidueDB().getResidue(\"K\")\n",
    "print(K.getName())\n",
    "\n",
    "k_mass = K.getMonoWeight()\n",
    "print(k_mass) \n",
    "\n",
    "total_mass = v_mass + a_mass + k_mass\n",
    "print(total_mass)"
   ]
  },
  {
   "cell_type": "code",
   "execution_count": 7,
   "id": "f01a9084",
   "metadata": {},
   "outputs": [
    {
     "name": "stdout",
     "output_type": "stream",
     "text": [
      "387.2481710527\n"
     ]
    }
   ],
   "source": [
    "# the mass of all sequences \n",
    "sequence = AASequence.fromString(\"VAKA\") \n",
    "fullmass = sequence.getMonoWeight() \n",
    "print(fullmass)"
   ]
  }
 ],
 "metadata": {
  "kernelspec": {
   "display_name": "Python 3 (ipykernel)",
   "language": "python",
   "name": "python3"
  },
  "language_info": {
   "codemirror_mode": {
    "name": "ipython",
    "version": 3
   },
   "file_extension": ".py",
   "mimetype": "text/x-python",
   "name": "python",
   "nbconvert_exporter": "python",
   "pygments_lexer": "ipython3",
   "version": "3.9.7"
  }
 },
 "nbformat": 4,
 "nbformat_minor": 5
}
