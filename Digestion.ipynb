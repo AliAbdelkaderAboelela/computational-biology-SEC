{
 "cells": [
  {
   "cell_type": "code",
   "execution_count": 12,
   "id": "0af2426e",
   "metadata": {},
   "outputs": [
    {
     "name": "stdout",
     "output_type": "stream",
     "text": [
      "SR\n"
     ]
    },
    {
     "data": {
      "text/plain": [
       "10"
      ]
     },
     "execution_count": 12,
     "metadata": {},
     "output_type": "execute_result"
    }
   ],
   "source": [
    "from pyopenms import *\n",
    "from urllib.request import urlretrieve\n",
    "gh = \"https://www.uniprot.org/uniprot/Q9HBF5.fasta\"\n",
    "urlretrieve (gh , \"human.fasta\")\n",
    "\n",
    "dig = ProteaseDigestion()\n",
    "dig.getEnzymeName() # Trypsin\n",
    "bsa = \"\".join([l.strip() for l in open(\"human.fasta\").readlines()[1:]])\n",
    "bsa = AASequence.fromString(bsa)\n",
    "# create all digestion products\n",
    "result = [] \n",
    "dig.digest(bsa, result)\n",
    "print(result[1].toString())\n",
    "len(result) "
   ]
  },
  {
   "cell_type": "code",
   "execution_count": 13,
   "id": "25ff1422",
   "metadata": {},
   "outputs": [
    {
     "name": "stdout",
     "output_type": "stream",
     "text": [
      "LTATSVSQVQENGFVK\n",
      "SGWMTFLEVTGK\n",
      "ICEMLFCPEAILLTR\n",
      "DTPYCETGLIFLTLTK\n",
      "TIANTYFYF\n"
     ]
    }
   ],
   "source": [
    "\n",
    "dig.digest(bsa, result, 5, 40)\n",
    "\n",
    "for s in result:\n",
    "    print(s.toString())"
   ]
  },
  {
   "cell_type": "code",
   "execution_count": 14,
   "id": "116aefcd",
   "metadata": {},
   "outputs": [
    {
     "name": "stdout",
     "output_type": "stream",
     "text": [
      "LTATSVSQVQENGFVK\n",
      "SGWMTFLEVTGK\n",
      "ICEMLFCPEAILLTR\n",
      "DTPYCETGLIFLTLTK\n",
      "TIANTYFYF\n",
      "SRLTATSVSQVQENGFVK\n",
      "LTATSVSQVQENGFVKK\n",
      "LEPKSGWMTFLEVTGK\n",
      "SGWMTFLEVTGKICEMLFCPEAILLTR\n",
      "ICEMLFCPEAILLTRK\n",
      "KDTPYCETGLIFLTLTK\n",
      "DTPYCETGLIFLTLTKTIANTYFYF\n",
      "MARSRLTATSVSQVQENGFVK\n",
      "SRLTATSVSQVQENGFVKK\n",
      "LTATSVSQVQENGFVKKLEPK\n",
      "KLEPKSGWMTFLEVTGK\n",
      "LEPKSGWMTFLEVTGKICEMLFCPEAILLTR\n",
      "SGWMTFLEVTGKICEMLFCPEAILLTRK\n",
      "ICEMLFCPEAILLTRKDTPYCETGLIFLTLTK\n",
      "KDTPYCETGLIFLTLTKTIANTYFYF\n",
      "MARSRLTATSVSQVQENGFVKK\n",
      "SRLTATSVSQVQENGFVKKLEPK\n",
      "LTATSVSQVQENGFVKKLEPKSGWMTFLEVTGK\n",
      "KLEPKSGWMTFLEVTGKICEMLFCPEAILLTR\n",
      "LEPKSGWMTFLEVTGKICEMLFCPEAILLTRK\n",
      "SGWMTFLEVTGKICEMLFCPEAILLTRKDTPYCETGLIFLTLTK\n",
      "ICEMLFCPEAILLTRKDTPYCETGLIFLTLTKTIANTYFYF\n"
     ]
    }
   ],
   "source": [
    "# Allow two missed cleavages\n",
    "dig.setMissedCleavages(3)\n",
    "# only create peptides of length 7-40\n",
    "dig.digest(bsa, result, 7, 60)\n",
    "# print the results\n",
    "for s in result:\n",
    "    print(s.toString())"
   ]
  },
  {
   "cell_type": "code",
   "execution_count": 15,
   "id": "6649c2f6",
   "metadata": {},
   "outputs": [
    {
     "name": "stdout",
     "output_type": "stream",
     "text": [
      "VVGANPAAIK\n"
     ]
    },
    {
     "data": {
      "text/plain": [
       "11"
      ]
     },
     "execution_count": 15,
     "metadata": {},
     "output_type": "execute_result"
    }
   ],
   "source": [
    "from urllib.request import urlretrieve\n",
    "gh = \"https://www.uniprot.org/uniprot/P22803.fasta\"\n",
    "urlretrieve (gh , \"YEAST.fasta\")\n",
    "\n",
    "dig = ProteaseDigestion()\n",
    "dig.getEnzymeName() # Trypsin\n",
    "bsa = \"\".join([l.strip() for l in open(\"YEAST.fasta\").readlines()[1:]])\n",
    "bsa = AASequence.fromString(bsa)\n",
    "# create all digestion products\n",
    "result = []\n",
    "dig.digest(bsa, result)\n",
    "print(result[9].toString())\n",
    "len(result) "
   ]
  },
  {
   "cell_type": "code",
   "execution_count": 16,
   "id": "b0946dea",
   "metadata": {},
   "outputs": [
    {
     "name": "stdout",
     "output_type": "stream",
     "text": [
      "SASEYDSALASGDK\n",
      "LVVVDFFATWCGPCK\n",
      "MIAPMIEK\n",
      "FAEQYSDAAFYK\n",
      "LDVDEVSDVAQK\n",
      "AEVSSMPTLIFYK\n",
      "VVGANPAAIK\n",
      "QAIASNV\n"
     ]
    }
   ],
   "source": [
    "# only create peptides of length 7-40\n",
    "dig.digest(bsa, result, 7, 40)\n",
    "# print the results\n",
    "for s in result:\n",
    "    print(s.toString())"
   ]
  },
  {
   "cell_type": "code",
   "execution_count": 17,
   "id": "58d8d747",
   "metadata": {},
   "outputs": [
    {
     "name": "stdout",
     "output_type": "stream",
     "text": [
      "SASEYDSALASGDK\n",
      "LVVVDFFATWCGPCK\n",
      "MIAPMIEK\n",
      "FAEQYSDAAFYK\n",
      "LDVDEVSDVAQK\n",
      "AEVSSMPTLIFYK\n",
      "VVGANPAAIK\n",
      "QAIASNV\n",
      "MVTQLKSASEYDSALASGDK\n",
      "SASEYDSALASGDKLVVVDFFATWCGPCK\n",
      "LVVVDFFATWCGPCKMIAPMIEK\n",
      "MIAPMIEKFAEQYSDAAFYK\n",
      "FAEQYSDAAFYKLDVDEVSDVAQK\n",
      "LDVDEVSDVAQKAEVSSMPTLIFYK\n",
      "AEVSSMPTLIFYKGGK\n",
      "GGKEVTR\n",
      "EVTRVVGANPAAIK\n",
      "VVGANPAAIKQAIASNV\n",
      "MVTQLKSASEYDSALASGDKLVVVDFFATWCGPCK\n",
      "SASEYDSALASGDKLVVVDFFATWCGPCKMIAPMIEK\n",
      "LVVVDFFATWCGPCKMIAPMIEKFAEQYSDAAFYK\n",
      "MIAPMIEKFAEQYSDAAFYKLDVDEVSDVAQK\n",
      "FAEQYSDAAFYKLDVDEVSDVAQKAEVSSMPTLIFYK\n",
      "LDVDEVSDVAQKAEVSSMPTLIFYKGGK\n",
      "AEVSSMPTLIFYKGGKEVTR\n",
      "GGKEVTRVVGANPAAIK\n",
      "EVTRVVGANPAAIKQAIASNV\n"
     ]
    }
   ],
   "source": [
    "# Allow two missed cleavages\n",
    "dig.setMissedCleavages(2)\n",
    "# only create peptides of length 7-40\n",
    "dig.digest(bsa, result, 7, 40)\n",
    "# print the results\n",
    "for s in result:\n",
    "    print(s.toString())"
   ]
  },
  {
   "cell_type": "code",
   "execution_count": 18,
   "id": "9d0796f2",
   "metadata": {},
   "outputs": [
    {
     "name": "stdout",
     "output_type": "stream",
     "text": [
      "[b'Arg-C', b'Trypsin', b'Arg-C/P', b'Asp-N', b'unspecific cleavage', b'elastase-trypsin-chymotrypsin', b'no cleavage', b'Formic_acid', b'Chymotrypsin', b'PepsinA', b'CNBr', b'Asp-N/B', b'leukocyte elastase', b'V8-E', b'TrypChymo', b'Lys-N', b'proline endopeptidase', b'Asp-N_ambic', b'glutamyl endopeptidase', b'Alpha-lytic protease', b'iodosobenzoate', b'staphylococcal protease/D', b'proline-endopeptidase/HKR', b'Glu-C+P', b'Trypsin/P', b'Lys-C/P', b'V8-DE', b'PepsinA + P', b'2-iodobenzoate', b'cyanogen-bromide', b'Clostripain/P', b'Chymotrypsin/P', b'Lys-C']\n"
     ]
    },
    {
     "data": {
      "text/plain": [
       "'Lys-C cuts after K if not followed by P.'"
      ]
     },
     "execution_count": 18,
     "metadata": {},
     "output_type": "execute_result"
    }
   ],
   "source": [
    "names = []\n",
    "ProteaseDB().getAllNames(names)\n",
    "len(names) # at least 25 by default\n",
    "print(names)\n",
    "\n",
    "e = ProteaseDB().getEnzyme('Lys-C')\n",
    "e.getRegExDescription()"
   ]
  },
  {
   "cell_type": "code",
   "execution_count": 19,
   "id": "64b54cd5",
   "metadata": {},
   "outputs": [
    {
     "name": "stdout",
     "output_type": "stream",
     "text": [
      "TIANTYFYF\n"
     ]
    },
    {
     "data": {
      "text/plain": [
       "7"
      ]
     },
     "execution_count": 19,
     "metadata": {},
     "output_type": "execute_result"
    }
   ],
   "source": [
    "from urllib.request import urlretrieve\n",
    "gh = \"https://www.uniprot.org/uniprot/Q9HBF5.fasta\"\n",
    "urlretrieve (gh , \"human.fasta\")\n",
    "\n",
    "dig = ProteaseDigestion()\n",
    "dig.setEnzyme('Lys-C')\n",
    "bsa = \"\".join([l.strip() for l in open(\"human.fasta\").readlines()[1:]])\n",
    "bsa = AASequence.fromString(bsa)\n",
    "result = []\n",
    "dig.digest(bsa, result)\n",
    "print(result[6].toString())\n",
    "len(result) "
   ]
  },
  {
   "cell_type": "code",
   "execution_count": 20,
   "id": "c0926b2a",
   "metadata": {},
   "outputs": [
    {
     "name": "stdout",
     "output_type": "stream",
     "text": [
      "FAEQYSDAAFYK\n"
     ]
    },
    {
     "data": {
      "text/plain": [
       "10"
      ]
     },
     "execution_count": 20,
     "metadata": {},
     "output_type": "execute_result"
    }
   ],
   "source": [
    "gh = \"https://www.uniprot.org/uniprot/P22803.fasta\"\n",
    "urlretrieve (gh , \"YEAST.fasta\")\n",
    "\n",
    "dig = ProteaseDigestion()\n",
    "dig.setEnzyme('Lys-C')\n",
    "bsa = \"\".join([l.strip() for l in open(\"YEAST.fasta\").readlines()[1:]])\n",
    "bsa = AASequence.fromString(bsa)\n",
    "result = []\n",
    "dig.digest(bsa, result)\n",
    "print(result[4].toString())\n",
    "len(result) # 10 peptides"
   ]
  },
  {
   "cell_type": "code",
   "execution_count": null,
   "id": "f51a3a51",
   "metadata": {},
   "outputs": [],
   "source": []
  },
  {
   "cell_type": "code",
   "execution_count": null,
   "id": "50c05909",
   "metadata": {
    "scrolled": false
   },
   "outputs": [],
   "source": []
  },
  {
   "cell_type": "code",
   "execution_count": null,
   "id": "28ee6735",
   "metadata": {},
   "outputs": [],
   "source": []
  }
 ],
 "metadata": {
  "kernelspec": {
   "display_name": "Python 3 (ipykernel)",
   "language": "python",
   "name": "python3"
  },
  "language_info": {
   "codemirror_mode": {
    "name": "ipython",
    "version": 3
   },
   "file_extension": ".py",
   "mimetype": "text/x-python",
   "name": "python",
   "nbconvert_exporter": "python",
   "pygments_lexer": "ipython3",
   "version": "3.9.7"
  }
 },
 "nbformat": 4,
 "nbformat_minor": 5
}
