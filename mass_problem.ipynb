{
 "cells": [
  {
   "cell_type": "code",
   "execution_count": 1,
   "id": "4aaf2e3c",
   "metadata": {},
   "outputs": [
    {
     "name": "stdout",
     "output_type": "stream",
     "text": [
      "Requirement already satisfied: numpy in d:\\anaconda\\lib\\site-packages (1.20.3)\n",
      "Requirement already satisfied: pyopenms in d:\\anaconda\\lib\\site-packages (2.7.0)\n",
      "Requirement already satisfied: numpy in d:\\anaconda\\lib\\site-packages (from pyopenms) (1.20.3)\n"
     ]
    }
   ],
   "source": [
    "!pip install numpy\n",
    "!pip install pyopenms"
   ]
  },
  {
   "cell_type": "code",
   "execution_count": 2,
   "id": "62869e08",
   "metadata": {},
   "outputs": [],
   "source": [
    "from pyopenms import *\n",
    "exp = MSExperiment()\n",
    "MzMLFile().store(\"testfile.MzML\",exp)"
   ]
  },
  {
   "cell_type": "code",
   "execution_count": 3,
   "id": "d27066f2",
   "metadata": {},
   "outputs": [
    {
     "name": "stdout",
     "output_type": "stream",
     "text": [
      "Valine\n",
      "117.0789793509\n",
      "Alanine\n",
      "89.04767922330001\n",
      "Lysine\n",
      "146.1055284466\n"
     ]
    }
   ],
   "source": [
    "\n",
    "\n",
    "V = ResidueDB().getResidue(\"V\")\n",
    "print(V.getName())\n",
    "\n",
    "v_mass = V.getMonoWeight()\n",
    "print(v_mass)\n",
    "\n",
    "A = ResidueDB().getResidue(\"A\")\n",
    "print(A.getName())\n",
    "\n",
    "a_mass = A.getMonoWeight()\n",
    "print(a_mass)\n",
    "\n",
    "K = ResidueDB().getResidue(\"K\")\n",
    "print(K.getName())\n",
    "\n",
    "k_mass = K.getMonoWeight()\n",
    "print(k_mass) "
   ]
  },
  {
   "cell_type": "code",
   "execution_count": 4,
   "id": "1c220407",
   "metadata": {},
   "outputs": [
    {
     "name": "stdout",
     "output_type": "stream",
     "text": [
      "441.2798662441\n"
     ]
    }
   ],
   "source": [
    "total_mass = v_mass + a_mass + k_mass+ a_mass\n",
    "print(total_mass)"
   ]
  },
  {
   "cell_type": "code",
   "execution_count": 5,
   "id": "f01a9084",
   "metadata": {},
   "outputs": [
    {
     "name": "stdout",
     "output_type": "stream",
     "text": [
      "387.2481710527\n"
     ]
    }
   ],
   "source": [
    "# the mass of all sequences \n",
    "sequence = AASequence.fromString(\"VAKA\") \n",
    "fullmass = sequence.getMonoWeight() \n",
    "print(fullmass)"
   ]
  }
 ],
 "metadata": {
  "kernelspec": {
   "display_name": "Python 3 (ipykernel)",
   "language": "python",
   "name": "python3"
  },
  "language_info": {
   "codemirror_mode": {
    "name": "ipython",
    "version": 3
   },
   "file_extension": ".py",
   "mimetype": "text/x-python",
   "name": "python",
   "nbconvert_exporter": "python",
   "pygments_lexer": "ipython3",
   "version": "3.9.7"
  }
 },
 "nbformat": 4,
 "nbformat_minor": 5
}
